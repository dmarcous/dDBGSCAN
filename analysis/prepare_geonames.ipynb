{
 "cells": [
  {
   "cell_type": "markdown",
   "metadata": {},
   "source": [
    "# Data Cleaning"
   ]
  },
  {
   "cell_type": "code",
   "execution_count": 1,
   "metadata": {},
   "outputs": [],
   "source": [
    "import pandas as pd"
   ]
  },
  {
   "cell_type": "code",
   "execution_count": 2,
   "metadata": {},
   "outputs": [],
   "source": [
    "dataset = \"geonames\""
   ]
  },
  {
   "cell_type": "code",
   "execution_count": 3,
   "metadata": {},
   "outputs": [],
   "source": [
    "root_path = \"/Users/dmarcous/myCode/thesis/data/\" + dataset + \"/\"\n",
    "input_path = root_path + \"raw/\"\n",
    "output_path = root_path + \"clean/\""
   ]
  },
  {
   "cell_type": "code",
   "execution_count": 4,
   "metadata": {},
   "outputs": [
    {
     "name": "stderr",
     "output_type": "stream",
     "text": [
      "/Users/dmarcous/anaconda3/lib/python3.6/site-packages/IPython/core/interactiveshell.py:2718: DtypeWarning: Columns (9,10,11,12,13) have mixed types. Specify dtype option on import or set low_memory=False.\n",
      "  interactivity=interactivity, compiler=compiler, result=result)\n"
     ]
    }
   ],
   "source": [
    "input_name = input_path + \"raw.csv\"\n",
    "input_df = pd.read_csv(input_name)\n",
    "input_df['id'] = input_df.reset_index().index"
   ]
  },
  {
   "cell_type": "code",
   "execution_count": 5,
   "metadata": {},
   "outputs": [
    {
     "name": "stdout",
     "output_type": "stream",
     "text": [
      "(11061987, 3)\n"
     ]
    }
   ],
   "source": [
    "selected_df = input_df[['id','longitude','latitude']]\n",
    "print(selected_df.shape)"
   ]
  },
  {
   "cell_type": "code",
   "execution_count": 6,
   "metadata": {},
   "outputs": [
    {
     "name": "stdout",
     "output_type": "stream",
     "text": [
      "(11061987, 3)\n"
     ]
    },
    {
     "data": {
      "text/html": [
       "<div>\n",
       "<style scoped>\n",
       "    .dataframe tbody tr th:only-of-type {\n",
       "        vertical-align: middle;\n",
       "    }\n",
       "\n",
       "    .dataframe tbody tr th {\n",
       "        vertical-align: top;\n",
       "    }\n",
       "\n",
       "    .dataframe thead th {\n",
       "        text-align: right;\n",
       "    }\n",
       "</style>\n",
       "<table border=\"1\" class=\"dataframe\">\n",
       "  <thead>\n",
       "    <tr style=\"text-align: right;\">\n",
       "      <th></th>\n",
       "      <th>id</th>\n",
       "      <th>longitude</th>\n",
       "      <th>latitude</th>\n",
       "    </tr>\n",
       "  </thead>\n",
       "  <tbody>\n",
       "    <tr>\n",
       "      <th>0</th>\n",
       "      <td>0</td>\n",
       "      <td>1.53335</td>\n",
       "      <td>42.64991</td>\n",
       "    </tr>\n",
       "    <tr>\n",
       "      <th>1</th>\n",
       "      <td>1</td>\n",
       "      <td>1.74028</td>\n",
       "      <td>42.58765</td>\n",
       "    </tr>\n",
       "    <tr>\n",
       "      <th>2</th>\n",
       "      <td>2</td>\n",
       "      <td>1.47364</td>\n",
       "      <td>42.61203</td>\n",
       "    </tr>\n",
       "    <tr>\n",
       "      <th>3</th>\n",
       "      <td>3</td>\n",
       "      <td>1.73343</td>\n",
       "      <td>42.52535</td>\n",
       "    </tr>\n",
       "    <tr>\n",
       "      <th>4</th>\n",
       "      <td>4</td>\n",
       "      <td>1.73362</td>\n",
       "      <td>42.52915</td>\n",
       "    </tr>\n",
       "    <tr>\n",
       "      <th>5</th>\n",
       "      <td>5</td>\n",
       "      <td>1.61823</td>\n",
       "      <td>42.62568</td>\n",
       "    </tr>\n",
       "    <tr>\n",
       "      <th>6</th>\n",
       "      <td>6</td>\n",
       "      <td>1.73333</td>\n",
       "      <td>42.60000</td>\n",
       "    </tr>\n",
       "    <tr>\n",
       "      <th>7</th>\n",
       "      <td>7</td>\n",
       "      <td>1.45562</td>\n",
       "      <td>42.60172</td>\n",
       "    </tr>\n",
       "    <tr>\n",
       "      <th>8</th>\n",
       "      <td>8</td>\n",
       "      <td>1.47569</td>\n",
       "      <td>42.50692</td>\n",
       "    </tr>\n",
       "    <tr>\n",
       "      <th>9</th>\n",
       "      <td>9</td>\n",
       "      <td>1.44986</td>\n",
       "      <td>42.55003</td>\n",
       "    </tr>\n",
       "    <tr>\n",
       "      <th>10</th>\n",
       "      <td>10</td>\n",
       "      <td>1.48736</td>\n",
       "      <td>42.55327</td>\n",
       "    </tr>\n",
       "    <tr>\n",
       "      <th>11</th>\n",
       "      <td>11</td>\n",
       "      <td>1.67554</td>\n",
       "      <td>42.57165</td>\n",
       "    </tr>\n",
       "    <tr>\n",
       "      <th>12</th>\n",
       "      <td>12</td>\n",
       "      <td>1.57597</td>\n",
       "      <td>42.49766</td>\n",
       "    </tr>\n",
       "    <tr>\n",
       "      <th>13</th>\n",
       "      <td>13</td>\n",
       "      <td>1.48980</td>\n",
       "      <td>42.56068</td>\n",
       "    </tr>\n",
       "    <tr>\n",
       "      <th>14</th>\n",
       "      <td>14</td>\n",
       "      <td>1.49009</td>\n",
       "      <td>42.57512</td>\n",
       "    </tr>\n",
       "    <tr>\n",
       "      <th>15</th>\n",
       "      <td>15</td>\n",
       "      <td>1.56428</td>\n",
       "      <td>42.49829</td>\n",
       "    </tr>\n",
       "    <tr>\n",
       "      <th>16</th>\n",
       "      <td>16</td>\n",
       "      <td>1.48118</td>\n",
       "      <td>42.49922</td>\n",
       "    </tr>\n",
       "    <tr>\n",
       "      <th>17</th>\n",
       "      <td>17</td>\n",
       "      <td>1.44621</td>\n",
       "      <td>42.47935</td>\n",
       "    </tr>\n",
       "    <tr>\n",
       "      <th>18</th>\n",
       "      <td>18</td>\n",
       "      <td>1.60578</td>\n",
       "      <td>42.47611</td>\n",
       "    </tr>\n",
       "    <tr>\n",
       "      <th>19</th>\n",
       "      <td>19</td>\n",
       "      <td>1.44173</td>\n",
       "      <td>42.47552</td>\n",
       "    </tr>\n",
       "  </tbody>\n",
       "</table>\n",
       "</div>"
      ],
      "text/plain": [
       "    id  longitude  latitude\n",
       "0    0    1.53335  42.64991\n",
       "1    1    1.74028  42.58765\n",
       "2    2    1.47364  42.61203\n",
       "3    3    1.73343  42.52535\n",
       "4    4    1.73362  42.52915\n",
       "5    5    1.61823  42.62568\n",
       "6    6    1.73333  42.60000\n",
       "7    7    1.45562  42.60172\n",
       "8    8    1.47569  42.50692\n",
       "9    9    1.44986  42.55003\n",
       "10  10    1.48736  42.55327\n",
       "11  11    1.67554  42.57165\n",
       "12  12    1.57597  42.49766\n",
       "13  13    1.48980  42.56068\n",
       "14  14    1.49009  42.57512\n",
       "15  15    1.56428  42.49829\n",
       "16  16    1.48118  42.49922\n",
       "17  17    1.44621  42.47935\n",
       "18  18    1.60578  42.47611\n",
       "19  19    1.44173  42.47552"
      ]
     },
     "execution_count": 6,
     "metadata": {},
     "output_type": "execute_result"
    }
   ],
   "source": [
    "clean_df = selected_df.dropna()\n",
    "print(clean_df.shape)\n",
    "clean_df.head(n=20)"
   ]
  },
  {
   "cell_type": "code",
   "execution_count": 7,
   "metadata": {},
   "outputs": [
    {
     "data": {
      "text/html": [
       "<div>\n",
       "<style scoped>\n",
       "    .dataframe tbody tr th:only-of-type {\n",
       "        vertical-align: middle;\n",
       "    }\n",
       "\n",
       "    .dataframe tbody tr th {\n",
       "        vertical-align: top;\n",
       "    }\n",
       "\n",
       "    .dataframe thead th {\n",
       "        text-align: right;\n",
       "    }\n",
       "</style>\n",
       "<table border=\"1\" class=\"dataframe\">\n",
       "  <thead>\n",
       "    <tr style=\"text-align: right;\">\n",
       "      <th></th>\n",
       "      <th>id</th>\n",
       "      <th>longitude</th>\n",
       "      <th>latitude</th>\n",
       "    </tr>\n",
       "  </thead>\n",
       "  <tbody>\n",
       "    <tr>\n",
       "      <th>11061977</th>\n",
       "      <td>11061977</td>\n",
       "      <td>-27.39334</td>\n",
       "      <td>16.29714</td>\n",
       "    </tr>\n",
       "    <tr>\n",
       "      <th>11061978</th>\n",
       "      <td>11061978</td>\n",
       "      <td>-24.58333</td>\n",
       "      <td>38.78333</td>\n",
       "    </tr>\n",
       "    <tr>\n",
       "      <th>11061979</th>\n",
       "      <td>11061979</td>\n",
       "      <td>139.84360</td>\n",
       "      <td>32.10410</td>\n",
       "    </tr>\n",
       "    <tr>\n",
       "      <th>11061980</th>\n",
       "      <td>11061980</td>\n",
       "      <td>122.20230</td>\n",
       "      <td>19.05498</td>\n",
       "    </tr>\n",
       "    <tr>\n",
       "      <th>11061981</th>\n",
       "      <td>11061981</td>\n",
       "      <td>-123.39513</td>\n",
       "      <td>-48.87697</td>\n",
       "    </tr>\n",
       "    <tr>\n",
       "      <th>11061982</th>\n",
       "      <td>11061982</td>\n",
       "      <td>51.15226</td>\n",
       "      <td>71.45453</td>\n",
       "    </tr>\n",
       "    <tr>\n",
       "      <th>11061983</th>\n",
       "      <td>11061983</td>\n",
       "      <td>34.23333</td>\n",
       "      <td>32.09661</td>\n",
       "    </tr>\n",
       "    <tr>\n",
       "      <th>11061984</th>\n",
       "      <td>11061984</td>\n",
       "      <td>88.18806</td>\n",
       "      <td>21.28917</td>\n",
       "    </tr>\n",
       "    <tr>\n",
       "      <th>11061985</th>\n",
       "      <td>11061985</td>\n",
       "      <td>166.08291</td>\n",
       "      <td>-17.73415</td>\n",
       "    </tr>\n",
       "    <tr>\n",
       "      <th>11061986</th>\n",
       "      <td>11061986</td>\n",
       "      <td>72.54389</td>\n",
       "      <td>14.17500</td>\n",
       "    </tr>\n",
       "  </tbody>\n",
       "</table>\n",
       "</div>"
      ],
      "text/plain": [
       "                id  longitude  latitude\n",
       "11061977  11061977  -27.39334  16.29714\n",
       "11061978  11061978  -24.58333  38.78333\n",
       "11061979  11061979  139.84360  32.10410\n",
       "11061980  11061980  122.20230  19.05498\n",
       "11061981  11061981 -123.39513 -48.87697\n",
       "11061982  11061982   51.15226  71.45453\n",
       "11061983  11061983   34.23333  32.09661\n",
       "11061984  11061984   88.18806  21.28917\n",
       "11061985  11061985  166.08291 -17.73415\n",
       "11061986  11061986   72.54389  14.17500"
      ]
     },
     "execution_count": 7,
     "metadata": {},
     "output_type": "execute_result"
    }
   ],
   "source": [
    "clean_df.tail(n=10)"
   ]
  },
  {
   "cell_type": "code",
   "execution_count": 8,
   "metadata": {},
   "outputs": [
    {
     "data": {
      "text/plain": [
       "(11061987, 3)"
      ]
     },
     "execution_count": 8,
     "metadata": {},
     "output_type": "execute_result"
    }
   ],
   "source": [
    "clean_df.shape"
   ]
  },
  {
   "cell_type": "code",
   "execution_count": 9,
   "metadata": {},
   "outputs": [
    {
     "data": {
      "text/plain": [
       "(11061987,)"
      ]
     },
     "execution_count": 9,
     "metadata": {},
     "output_type": "execute_result"
    }
   ],
   "source": [
    "clean_df['longitude'].dropna().shape"
   ]
  },
  {
   "cell_type": "code",
   "execution_count": 15,
   "metadata": {},
   "outputs": [
    {
     "name": "stdout",
     "output_type": "stream",
     "text": [
      "180.0\n",
      "-179.9836\n",
      "90.0\n",
      "-90.0\n"
     ]
    }
   ],
   "source": [
    "print(clean_df['longitude'].max())\n",
    "print(clean_df['longitude'].min())\n",
    "print(clean_df['latitude'].max())\n",
    "print(clean_df['latitude'].min())"
   ]
  },
  {
   "cell_type": "code",
   "execution_count": 10,
   "metadata": {},
   "outputs": [
    {
     "data": {
      "text/plain": [
       "(11061987,)"
      ]
     },
     "execution_count": 10,
     "metadata": {},
     "output_type": "execute_result"
    }
   ],
   "source": [
    "clean_df['latitude'].dropna().shape"
   ]
  },
  {
   "cell_type": "markdown",
   "metadata": {},
   "source": [
    "## Main"
   ]
  },
  {
   "cell_type": "code",
   "execution_count": 11,
   "metadata": {},
   "outputs": [],
   "source": [
    "output_name = output_path + \"output.csv\"\n",
    "clean_df.to_csv(output_name, index=False, header=False)"
   ]
  },
  {
   "cell_type": "code",
   "execution_count": null,
   "metadata": {},
   "outputs": [],
   "source": []
  }
 ],
 "metadata": {
  "kernelspec": {
   "display_name": "Python 3",
   "language": "python",
   "name": "python3"
  },
  "language_info": {
   "codemirror_mode": {
    "name": "ipython",
    "version": 3
   },
   "file_extension": ".py",
   "mimetype": "text/x-python",
   "name": "python",
   "nbconvert_exporter": "python",
   "pygments_lexer": "ipython3",
   "version": "3.6.8"
  }
 },
 "nbformat": 4,
 "nbformat_minor": 2
}
