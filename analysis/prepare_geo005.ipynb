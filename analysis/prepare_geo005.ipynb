{
 "cells": [
  {
   "cell_type": "markdown",
   "metadata": {},
   "source": [
    "# Data Cleaning"
   ]
  },
  {
   "cell_type": "code",
   "execution_count": 1,
   "metadata": {},
   "outputs": [],
   "source": [
    "import pandas as pd"
   ]
  },
  {
   "cell_type": "code",
   "execution_count": 2,
   "metadata": {},
   "outputs": [],
   "source": [
    "dataset = \"geo005\""
   ]
  },
  {
   "cell_type": "code",
   "execution_count": 3,
   "metadata": {},
   "outputs": [],
   "source": [
    "root_path = \"/Users/dmarcous/myCode/thesis/data/\" + dataset + \"/\"\n",
    "input_path = root_path + \"raw/\"\n",
    "output_path = root_path + \"clean/\""
   ]
  },
  {
   "cell_type": "code",
   "execution_count": 4,
   "metadata": {},
   "outputs": [
    {
     "name": "stderr",
     "output_type": "stream",
     "text": [
      "/Users/dmarcous/anaconda3/lib/python3.6/site-packages/IPython/core/interactiveshell.py:2718: DtypeWarning: Columns (9,10,11,12,13) have mixed types. Specify dtype option on import or set low_memory=False.\n",
      "  interactivity=interactivity, compiler=compiler, result=result)\n"
     ]
    }
   ],
   "source": [
    "input_name = input_path + \"raw.csv\"\n",
    "input_df = pd.read_csv(input_name)\n",
    "input_df['id'] = input_df.reset_index().index"
   ]
  },
  {
   "cell_type": "code",
   "execution_count": 5,
   "metadata": {},
   "outputs": [
    {
     "name": "stdout",
     "output_type": "stream",
     "text": [
      "(11061987, 3)\n"
     ]
    }
   ],
   "source": [
    "selected_df = input_df[['id','longitude','latitude']]\n",
    "print(selected_df.shape)"
   ]
  },
  {
   "cell_type": "code",
   "execution_count": 6,
   "metadata": {},
   "outputs": [
    {
     "name": "stdout",
     "output_type": "stream",
     "text": [
      "(553099, 3)\n"
     ]
    },
    {
     "data": {
      "text/html": [
       "<div>\n",
       "<style scoped>\n",
       "    .dataframe tbody tr th:only-of-type {\n",
       "        vertical-align: middle;\n",
       "    }\n",
       "\n",
       "    .dataframe tbody tr th {\n",
       "        vertical-align: top;\n",
       "    }\n",
       "\n",
       "    .dataframe thead th {\n",
       "        text-align: right;\n",
       "    }\n",
       "</style>\n",
       "<table border=\"1\" class=\"dataframe\">\n",
       "  <thead>\n",
       "    <tr style=\"text-align: right;\">\n",
       "      <th></th>\n",
       "      <th>id</th>\n",
       "      <th>longitude</th>\n",
       "      <th>latitude</th>\n",
       "    </tr>\n",
       "  </thead>\n",
       "  <tbody>\n",
       "    <tr>\n",
       "      <th>8902448</th>\n",
       "      <td>8902448</td>\n",
       "      <td>-85.53161</td>\n",
       "      <td>31.81516</td>\n",
       "    </tr>\n",
       "    <tr>\n",
       "      <th>2011622</th>\n",
       "      <td>2011622</td>\n",
       "      <td>109.46311</td>\n",
       "      <td>28.24008</td>\n",
       "    </tr>\n",
       "    <tr>\n",
       "      <th>10824270</th>\n",
       "      <td>10824270</td>\n",
       "      <td>105.72802</td>\n",
       "      <td>19.15680</td>\n",
       "    </tr>\n",
       "    <tr>\n",
       "      <th>5022226</th>\n",
       "      <td>5022226</td>\n",
       "      <td>129.05928</td>\n",
       "      <td>36.67962</td>\n",
       "    </tr>\n",
       "    <tr>\n",
       "      <th>3379634</th>\n",
       "      <td>3379634</td>\n",
       "      <td>123.61306</td>\n",
       "      <td>-1.60639</td>\n",
       "    </tr>\n",
       "    <tr>\n",
       "      <th>989639</th>\n",
       "      <td>989639</td>\n",
       "      <td>-64.53944</td>\n",
       "      <td>50.54389</td>\n",
       "    </tr>\n",
       "    <tr>\n",
       "      <th>1475615</th>\n",
       "      <td>1475615</td>\n",
       "      <td>120.39844</td>\n",
       "      <td>32.73281</td>\n",
       "    </tr>\n",
       "    <tr>\n",
       "      <th>926316</th>\n",
       "      <td>926316</td>\n",
       "      <td>-98.68355</td>\n",
       "      <td>52.33441</td>\n",
       "    </tr>\n",
       "    <tr>\n",
       "      <th>9025670</th>\n",
       "      <td>9025670</td>\n",
       "      <td>-82.93263</td>\n",
       "      <td>30.33828</td>\n",
       "    </tr>\n",
       "    <tr>\n",
       "      <th>5539569</th>\n",
       "      <td>5539569</td>\n",
       "      <td>98.96071</td>\n",
       "      <td>12.82264</td>\n",
       "    </tr>\n",
       "    <tr>\n",
       "      <th>8042482</th>\n",
       "      <td>8042482</td>\n",
       "      <td>57.35740</td>\n",
       "      <td>56.87860</td>\n",
       "    </tr>\n",
       "    <tr>\n",
       "      <th>9903924</th>\n",
       "      <td>9903924</td>\n",
       "      <td>-106.64419</td>\n",
       "      <td>35.14588</td>\n",
       "    </tr>\n",
       "    <tr>\n",
       "      <th>2827676</th>\n",
       "      <td>2827676</td>\n",
       "      <td>22.59296</td>\n",
       "      <td>63.67414</td>\n",
       "    </tr>\n",
       "    <tr>\n",
       "      <th>6551984</th>\n",
       "      <td>6551984</td>\n",
       "      <td>6.17729</td>\n",
       "      <td>62.66506</td>\n",
       "    </tr>\n",
       "    <tr>\n",
       "      <th>10781283</th>\n",
       "      <td>10781283</td>\n",
       "      <td>105.30000</td>\n",
       "      <td>19.31667</td>\n",
       "    </tr>\n",
       "    <tr>\n",
       "      <th>8690182</th>\n",
       "      <td>8690182</td>\n",
       "      <td>10.39389</td>\n",
       "      <td>35.93056</td>\n",
       "    </tr>\n",
       "    <tr>\n",
       "      <th>2030323</th>\n",
       "      <td>2030323</td>\n",
       "      <td>106.51900</td>\n",
       "      <td>34.44570</td>\n",
       "    </tr>\n",
       "    <tr>\n",
       "      <th>6070537</th>\n",
       "      <td>6070537</td>\n",
       "      <td>111.81667</td>\n",
       "      <td>1.76667</td>\n",
       "    </tr>\n",
       "    <tr>\n",
       "      <th>2310794</th>\n",
       "      <td>2310794</td>\n",
       "      <td>15.08759</td>\n",
       "      <td>49.70960</td>\n",
       "    </tr>\n",
       "    <tr>\n",
       "      <th>7223954</th>\n",
       "      <td>7223954</td>\n",
       "      <td>-74.89296</td>\n",
       "      <td>-12.66757</td>\n",
       "    </tr>\n",
       "  </tbody>\n",
       "</table>\n",
       "</div>"
      ],
      "text/plain": [
       "                id  longitude  latitude\n",
       "8902448    8902448  -85.53161  31.81516\n",
       "2011622    2011622  109.46311  28.24008\n",
       "10824270  10824270  105.72802  19.15680\n",
       "5022226    5022226  129.05928  36.67962\n",
       "3379634    3379634  123.61306  -1.60639\n",
       "989639      989639  -64.53944  50.54389\n",
       "1475615    1475615  120.39844  32.73281\n",
       "926316      926316  -98.68355  52.33441\n",
       "9025670    9025670  -82.93263  30.33828\n",
       "5539569    5539569   98.96071  12.82264\n",
       "8042482    8042482   57.35740  56.87860\n",
       "9903924    9903924 -106.64419  35.14588\n",
       "2827676    2827676   22.59296  63.67414\n",
       "6551984    6551984    6.17729  62.66506\n",
       "10781283  10781283  105.30000  19.31667\n",
       "8690182    8690182   10.39389  35.93056\n",
       "2030323    2030323  106.51900  34.44570\n",
       "6070537    6070537  111.81667   1.76667\n",
       "2310794    2310794   15.08759  49.70960\n",
       "7223954    7223954  -74.89296 -12.66757"
      ]
     },
     "execution_count": 6,
     "metadata": {},
     "output_type": "execute_result"
    }
   ],
   "source": [
    "clean_df = selected_df.dropna().sample(frac=0.05, random_state=666)\n",
    "print(clean_df.shape)\n",
    "clean_df.head(n=20)"
   ]
  },
  {
   "cell_type": "code",
   "execution_count": 7,
   "metadata": {},
   "outputs": [
    {
     "data": {
      "text/html": [
       "<div>\n",
       "<style scoped>\n",
       "    .dataframe tbody tr th:only-of-type {\n",
       "        vertical-align: middle;\n",
       "    }\n",
       "\n",
       "    .dataframe tbody tr th {\n",
       "        vertical-align: top;\n",
       "    }\n",
       "\n",
       "    .dataframe thead th {\n",
       "        text-align: right;\n",
       "    }\n",
       "</style>\n",
       "<table border=\"1\" class=\"dataframe\">\n",
       "  <thead>\n",
       "    <tr style=\"text-align: right;\">\n",
       "      <th></th>\n",
       "      <th>id</th>\n",
       "      <th>longitude</th>\n",
       "      <th>latitude</th>\n",
       "    </tr>\n",
       "  </thead>\n",
       "  <tbody>\n",
       "    <tr>\n",
       "      <th>7387677</th>\n",
       "      <td>7387677</td>\n",
       "      <td>68.75833</td>\n",
       "      <td>25.98472</td>\n",
       "    </tr>\n",
       "    <tr>\n",
       "      <th>7251329</th>\n",
       "      <td>7251329</td>\n",
       "      <td>152.18333</td>\n",
       "      <td>-4.31667</td>\n",
       "    </tr>\n",
       "    <tr>\n",
       "      <th>2429339</th>\n",
       "      <td>2429339</td>\n",
       "      <td>11.50000</td>\n",
       "      <td>48.18333</td>\n",
       "    </tr>\n",
       "    <tr>\n",
       "      <th>3604445</th>\n",
       "      <td>3604445</td>\n",
       "      <td>119.03890</td>\n",
       "      <td>-9.49900</td>\n",
       "    </tr>\n",
       "    <tr>\n",
       "      <th>4081802</th>\n",
       "      <td>4081802</td>\n",
       "      <td>82.85939</td>\n",
       "      <td>21.99480</td>\n",
       "    </tr>\n",
       "    <tr>\n",
       "      <th>2729981</th>\n",
       "      <td>2729981</td>\n",
       "      <td>-6.59105</td>\n",
       "      <td>43.49833</td>\n",
       "    </tr>\n",
       "    <tr>\n",
       "      <th>749117</th>\n",
       "      <td>749117</td>\n",
       "      <td>-54.08333</td>\n",
       "      <td>-23.71667</td>\n",
       "    </tr>\n",
       "    <tr>\n",
       "      <th>2545205</th>\n",
       "      <td>2545205</td>\n",
       "      <td>-70.02793</td>\n",
       "      <td>19.03492</td>\n",
       "    </tr>\n",
       "    <tr>\n",
       "      <th>9360500</th>\n",
       "      <td>9360500</td>\n",
       "      <td>-80.11144</td>\n",
       "      <td>36.66708</td>\n",
       "    </tr>\n",
       "    <tr>\n",
       "      <th>6153649</th>\n",
       "      <td>6153649</td>\n",
       "      <td>40.25000</td>\n",
       "      <td>-14.16667</td>\n",
       "    </tr>\n",
       "  </tbody>\n",
       "</table>\n",
       "</div>"
      ],
      "text/plain": [
       "              id  longitude  latitude\n",
       "7387677  7387677   68.75833  25.98472\n",
       "7251329  7251329  152.18333  -4.31667\n",
       "2429339  2429339   11.50000  48.18333\n",
       "3604445  3604445  119.03890  -9.49900\n",
       "4081802  4081802   82.85939  21.99480\n",
       "2729981  2729981   -6.59105  43.49833\n",
       "749117    749117  -54.08333 -23.71667\n",
       "2545205  2545205  -70.02793  19.03492\n",
       "9360500  9360500  -80.11144  36.66708\n",
       "6153649  6153649   40.25000 -14.16667"
      ]
     },
     "execution_count": 7,
     "metadata": {},
     "output_type": "execute_result"
    }
   ],
   "source": [
    "clean_df.tail(n=10)"
   ]
  },
  {
   "cell_type": "code",
   "execution_count": 8,
   "metadata": {},
   "outputs": [
    {
     "data": {
      "text/plain": [
       "(553099, 3)"
      ]
     },
     "execution_count": 8,
     "metadata": {},
     "output_type": "execute_result"
    }
   ],
   "source": [
    "clean_df.shape"
   ]
  },
  {
   "cell_type": "code",
   "execution_count": 9,
   "metadata": {},
   "outputs": [
    {
     "data": {
      "text/plain": [
       "(553099,)"
      ]
     },
     "execution_count": 9,
     "metadata": {},
     "output_type": "execute_result"
    }
   ],
   "source": [
    "clean_df['longitude'].dropna().shape"
   ]
  },
  {
   "cell_type": "code",
   "execution_count": 10,
   "metadata": {},
   "outputs": [
    {
     "name": "stdout",
     "output_type": "stream",
     "text": [
      "180.0\n",
      "-179.96667\n",
      "90.0\n",
      "-90.0\n"
     ]
    }
   ],
   "source": [
    "print(clean_df['longitude'].max())\n",
    "print(clean_df['longitude'].min())\n",
    "print(clean_df['latitude'].max())\n",
    "print(clean_df['latitude'].min())"
   ]
  },
  {
   "cell_type": "code",
   "execution_count": 11,
   "metadata": {},
   "outputs": [
    {
     "data": {
      "text/plain": [
       "(553099,)"
      ]
     },
     "execution_count": 11,
     "metadata": {},
     "output_type": "execute_result"
    }
   ],
   "source": [
    "clean_df['latitude'].dropna().shape"
   ]
  },
  {
   "cell_type": "markdown",
   "metadata": {},
   "source": [
    "## Main"
   ]
  },
  {
   "cell_type": "code",
   "execution_count": 12,
   "metadata": {},
   "outputs": [],
   "source": [
    "output_name = output_path + \"output.csv\"\n",
    "clean_df.to_csv(output_name, index=False, header=False)"
   ]
  },
  {
   "cell_type": "code",
   "execution_count": null,
   "metadata": {},
   "outputs": [],
   "source": []
  }
 ],
 "metadata": {
  "kernelspec": {
   "display_name": "Python 3",
   "language": "python",
   "name": "python3"
  },
  "language_info": {
   "codemirror_mode": {
    "name": "ipython",
    "version": 3
   },
   "file_extension": ".py",
   "mimetype": "text/x-python",
   "name": "python",
   "nbconvert_exporter": "python",
   "pygments_lexer": "ipython3",
   "version": "3.6.8"
  }
 },
 "nbformat": 4,
 "nbformat_minor": 2
}
